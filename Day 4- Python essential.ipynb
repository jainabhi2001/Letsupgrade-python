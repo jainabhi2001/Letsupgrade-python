{
 "cells": [
  {
   "cell_type": "markdown",
   "metadata": {},
   "source": [
    "# Q1. Find all the occurences of substring in the given string \"What we think we become : we are Python programmer\" and print the index values?"
   ]
  },
  {
   "cell_type": "code",
   "execution_count": 1,
   "metadata": {},
   "outputs": [
    {
     "name": "stdout",
     "output_type": "stream",
     "text": [
      "WE found at --> 5\n",
      "WE found at --> 14\n",
      "WE found at --> 26\n"
     ]
    }
   ],
   "source": [
    "str=\"What we think we become : we are Python programmer\"\n",
    "for i in range(len(str)):\n",
    "    if str[i]==\"w\" and str[i+1]==\"e\":\n",
    "        print(\"WE found at -->\",i)\n"
   ]
  },
  {
   "cell_type": "markdown",
   "metadata": {},
   "source": [
    "# Q2.Explain using (i) islower() (ii) isupper() with different kind of strings?"
   ]
  },
  {
   "cell_type": "code",
   "execution_count": 2,
   "metadata": {},
   "outputs": [
    {
     "name": "stdout",
     "output_type": "stream",
     "text": [
      "Enter a string:HI\n",
      "HI :is a upper string\n",
      "Enter a string:hello465\n",
      "hello465 :is a lower string\n",
      "Enter a string:Python\n",
      "Python is a mixed case string\n",
      "Enter a string:py@thon\n",
      "py@thon :is a lower string\n",
      "Enter a string:quit\n",
      "quit :is a lower string\n"
     ]
    }
   ],
   "source": [
    "flag=1\n",
    "while flag==1:\n",
    "    a=input(\"Enter a string:\")\n",
    "    if(a==\"quit\"):\n",
    "        flag=0\n",
    "    if a.islower():\n",
    "        print(a,\":is a lower string\")\n",
    "    elif a.isupper():\n",
    "        print(a,\":is a upper string\")\n",
    "    else:\n",
    "        print(a,\"is a mixed case string\")"
   ]
  }
 ],
 "metadata": {
  "kernelspec": {
   "display_name": "Python 3",
   "language": "python",
   "name": "python3"
  },
  "language_info": {
   "codemirror_mode": {
    "name": "ipython",
    "version": 3
   },
   "file_extension": ".py",
   "mimetype": "text/x-python",
   "name": "python",
   "nbconvert_exporter": "python",
   "pygments_lexer": "ipython3",
   "version": "3.7.6"
  }
 },
 "nbformat": 4,
 "nbformat_minor": 4
}
