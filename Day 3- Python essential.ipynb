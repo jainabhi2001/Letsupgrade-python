{
 "cells": [
  {
   "cell_type": "markdown",
   "metadata": {},
   "source": [
    "# 1. Sum of n numbers with the help of while loop\n"
   ]
  },
  {
   "cell_type": "code",
   "execution_count": 5,
   "metadata": {},
   "outputs": [
    {
     "name": "stdout",
     "output_type": "stream",
     "text": [
      "Enter the number to add3\n",
      "After adding  3 --> 3\n",
      "Enter the number to add4\n",
      "After adding  4 --> 7\n",
      "Enter the number to add7\n",
      "After adding  7 --> 14\n",
      "Enter the number to add9\n",
      "After adding  9 --> 23\n",
      "Enter the number to add34.89\n",
      "After adding  34.89 --> 57.89\n",
      "Enter the number to add0.11\n",
      "After adding  0.11 --> 58.0\n",
      "Enter the number to add0\n",
      "Sum of all the numbers is : 58.0\n"
     ]
    }
   ],
   "source": [
    "sum=0\n",
    "flag=1\n",
    "while flag==1:\n",
    "    a=eval(input(\"Enter the number to add\"))\n",
    "    if a==0:\n",
    "        flag=0\n",
    "    else:\n",
    "        sum=sum+a\n",
    "        print(\"After adding \",a, \"-->\",sum)\n",
    "\n",
    "print(\"Sum of all the numbers is :\",sum)    \n",
    "    "
   ]
  },
  {
   "cell_type": "markdown",
   "metadata": {},
   "source": [
    "# 2. Take a integer and find --> prime or not"
   ]
  },
  {
   "cell_type": "code",
   "execution_count": 26,
   "metadata": {},
   "outputs": [
    {
     "name": "stdout",
     "output_type": "stream",
     "text": [
      "Enter a number that you want to check for prime8\n",
      "8 --> is not a prime number\n"
     ]
    }
   ],
   "source": [
    "a=int(input(\"Enter a number that you want to check for prime\"))\n",
    "count=0\n",
    "for i in range(1,a):\n",
    "    if(a%i==0):\n",
    "        count+=1\n",
    "        \n",
    "if (count==1):\n",
    "    print(a,\"--> is a prime number\")\n",
    "else:\n",
    "    print(a,\"--> is not a prime number\")"
   ]
  }
 ],
 "metadata": {
  "kernelspec": {
   "display_name": "Python 3",
   "language": "python",
   "name": "python3"
  },
  "language_info": {
   "codemirror_mode": {
    "name": "ipython",
    "version": 3
   },
   "file_extension": ".py",
   "mimetype": "text/x-python",
   "name": "python",
   "nbconvert_exporter": "python",
   "pygments_lexer": "ipython3",
   "version": "3.7.6"
  }
 },
 "nbformat": 4,
 "nbformat_minor": 4
}
