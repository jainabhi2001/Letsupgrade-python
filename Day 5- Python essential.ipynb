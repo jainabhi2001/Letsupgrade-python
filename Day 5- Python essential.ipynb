{
 "cells": [
  {
   "cell_type": "markdown",
   "metadata": {},
   "source": [
    "# 1. Sort by increasing order but all zeroes be at the right hand side\n",
    "# [0,1,2,10,4,1,0,56,2,0,1,3,0,56,0,4]"
   ]
  },
  {
   "cell_type": "code",
   "execution_count": 1,
   "metadata": {},
   "outputs": [
    {
     "name": "stdout",
     "output_type": "stream",
     "text": [
      "After sorting and placing zeroes at end: [1, 1, 1, 2, 2, 3, 4, 4, 10, 56, 56, 0, 0, 0, 0, 0]\n"
     ]
    }
   ],
   "source": [
    "count=0\n",
    "l=[0,1,2,10,4,1,0,56,2,0,1,3,0,56,0,4]\n",
    "new=[]\n",
    "for i in l:\n",
    "    if i!=0:\n",
    "        new.append(i)\n",
    "    elif i==0:\n",
    "        count+=1\n",
    "        \n",
    "new.sort()\n",
    "for i in range(count):\n",
    "    new.append(0)\n",
    "\n",
    "print(\"After sorting and placing zeroes at end:\",new)\n"
   ]
  },
  {
   "cell_type": "markdown",
   "metadata": {},
   "source": [
    "# 2. list1=[10,20,40,60,70,80] sorted list\n",
    "#     list2=[5,15,25,35,45,60] sorted list\n",
    "#     Merge these two sorted lists to produce one sorted list,but use only loop            either while or for only one time"
   ]
  },
  {
   "cell_type": "code",
   "execution_count": 2,
   "metadata": {},
   "outputs": [
    {
     "name": "stdout",
     "output_type": "stream",
     "text": [
      "[5, 10, 15, 20, 25, 35, 40, 45, 60, 60, 70, 80]\n"
     ]
    }
   ],
   "source": [
    "list1=[10,20,40,60,70,80]\n",
    "list2=[5,15,25,35,45,60]\n",
    "l=[]\n",
    "i=0\n",
    "j=0\n",
    "\n",
    "while i<len(list1) and j<len(list2):\n",
    "    if (list1[i]<list2[j]):\n",
    "        l.append(list1[i])\n",
    "        i+=1\n",
    "    elif (list1[i]>list2[j]):\n",
    "        l.append(list2[j])\n",
    "        j+=1\n",
    "    else:\n",
    "        if list1[i]!=0:\n",
    "            l.append(list1[i])\n",
    "            i+=1\n",
    "        elif list2[j]!=0:            \n",
    "            l.append(list2[j])\n",
    "            j+=1\n",
    "l = l + list1[i:] + list2[j:]\n",
    "    \n",
    "print(l)\n",
    "\n"
   ]
  },
  {
   "cell_type": "code",
   "execution_count": null,
   "metadata": {},
   "outputs": [],
   "source": []
  }
 ],
 "metadata": {
  "kernelspec": {
   "display_name": "Python 3",
   "language": "python",
   "name": "python3"
  },
  "language_info": {
   "codemirror_mode": {
    "name": "ipython",
    "version": 3
   },
   "file_extension": ".py",
   "mimetype": "text/x-python",
   "name": "python",
   "nbconvert_exporter": "python",
   "pygments_lexer": "ipython3",
   "version": "3.7.6"
  }
 },
 "nbformat": 4,
 "nbformat_minor": 4
}
