{
 "cells": [
  {
   "cell_type": "markdown",
   "metadata": {},
   "source": [
    "# 1. Use the dictionary,\n",
    "# port1 = {21: \"FTP\", 22:\"SSH\", 23: \"telnet\", 80: \"http\"},\n",
    "# and make a new dictionary in which keys become values and values become keys,\n",
    "# as shown: Port2 = {\"FTP\":21, \"SSH\":22, \"telnet\":23,\"http\": 80} \n"
   ]
  },
  {
   "cell_type": "code",
   "execution_count": 8,
   "metadata": {},
   "outputs": [
    {
     "name": "stdout",
     "output_type": "stream",
     "text": [
      "{'FTP': 21, 'SSH': 22, 'telnet': 23, 'http': 80}\n"
     ]
    }
   ],
   "source": [
    "port1 = {21: \"FTP\", 22:\"SSH\", 23: \"telnet\", 80: \"http\"}\n",
    "key=port1.keys()\n",
    "value=port1.values()\n",
    "port2={v:k for k,v in zip(key,value) }\n",
    "print(port2)\n"
   ]
  },
  {
   "cell_type": "markdown",
   "metadata": {},
   "source": [
    "# 2. Take a list of tuple as shown below,\n",
    "# [(1,2), (3,4), (5,6),(4,5)] \n",
    "# Make a new list which contains the sum of the number of tuples.\n",
    "# For example,\n",
    "# Input [(1,2), (3,4), (5,6)] \n",
    "# Output [3, 7, 11] \n"
   ]
  },
  {
   "cell_type": "code",
   "execution_count": 12,
   "metadata": {},
   "outputs": [
    {
     "name": "stdout",
     "output_type": "stream",
     "text": [
      "[3, 7, 11, 9]\n"
     ]
    }
   ],
   "source": [
    "l1=[(1,2), (3,4), (5,6),(4,5)]\n",
    "l2=[]\n",
    "for i in l1:\n",
    "    ad=0\n",
    "    for each in i:\n",
    "        ad=ad+each\n",
    "    l2.append(ad)\n",
    "print(l2)\n",
    "        "
   ]
  },
  {
   "cell_type": "markdown",
   "metadata": {},
   "source": [
    "# 3. Take a list as shown below,\n",
    "# [(1,2,3), [1,2], ['a','hit','less']] \n",
    "# The List contains tuple and lists. Make the elements of inner lists and tuples to outer list \n"
   ]
  },
  {
   "cell_type": "code",
   "execution_count": 13,
   "metadata": {},
   "outputs": [
    {
     "name": "stdout",
     "output_type": "stream",
     "text": [
      "[1, 2, 3, 1, 2, 'a', 'hit', 'less']\n"
     ]
    }
   ],
   "source": [
    "l1=[(1,2,3), [1,2], ['a','hit','less']]\n",
    "l2=[]\n",
    "for each in l1:\n",
    "    for i in each:\n",
    "        l2.append(i)\n",
    "        \n",
    "print(l2)\n"
   ]
  }
 ],
 "metadata": {
  "kernelspec": {
   "display_name": "Python 3",
   "language": "python",
   "name": "python3"
  },
  "language_info": {
   "codemirror_mode": {
    "name": "ipython",
    "version": 3
   },
   "file_extension": ".py",
   "mimetype": "text/x-python",
   "name": "python",
   "nbconvert_exporter": "python",
   "pygments_lexer": "ipython3",
   "version": "3.7.6"
  }
 },
 "nbformat": 4,
 "nbformat_minor": 4
}
